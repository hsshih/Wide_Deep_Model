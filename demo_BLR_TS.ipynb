{
  "nbformat": 4,
  "nbformat_minor": 0,
  "metadata": {
    "colab": {
      "name": "demo_BLR_TS.ipynb",
      "provenance": [],
      "collapsed_sections": []
    },
    "kernelspec": {
      "name": "python3",
      "display_name": "Python 3"
    }
  },
  "cells": [
    {
      "cell_type": "markdown",
      "metadata": {
        "id": "ViP-uqIV-wvu"
      },
      "source": [
        "## Demo for Wide and Deep Bandits with Bayesian Linear Regression + Thompson Sampling"
      ]
    },
    {
      "cell_type": "code",
      "metadata": {
        "id": "pQh2WlVftITW"
      },
      "source": [
        "import torch\n",
        "import torch.nn as nn\n",
        "import numpy as np\n",
        "from random import random\n",
        "from IPython.display import clear_output"
      ],
      "execution_count": null,
      "outputs": []
    },
    {
      "cell_type": "code",
      "metadata": {
        "id": "Ur6JrgpIw1zj"
      },
      "source": [
        "#from google.colab import drive\n",
        "#drive.mount('/content/drive')"
      ],
      "execution_count": null,
      "outputs": []
    },
    {
      "cell_type": "code",
      "metadata": {
        "id": "rbL9-TQItaOM"
      },
      "source": [
        "import sys\n",
        "## path to wide_deep_bandits.py and toy_problem_wu.py files\n",
        "path = '/content/drive/MyDrive/Fellowship_Deep_and_Wide_Bandit/Wide_and_Deep_Models/'\n",
        "sys.path.append(path)\n",
        "\n",
        "#from contextual_dataset_wu import ContextualDataset\n",
        "from toy_problem_wu import generate_dataframe\n",
        "from wide_deep_bandits_BLR_TS import Wide_Deep_Bandits_BLR_TS"
      ],
      "execution_count": null,
      "outputs": []
    },
    {
      "cell_type": "markdown",
      "metadata": {
        "id": "Ur_5JBZYImbn"
      },
      "source": [
        "# Toy problem\n",
        "The space-bandits toy_problem divides users/customers into two groups\n",
        "\n",
        "Group 1: age ~25, ARPU ~100, user_id range 0 - 19, best action = 0\n",
        "\n",
        "Group 2: age ~45, ARPU ~50, user_id range 20 - 39, best action = 2\n"
      ]
    },
    {
      "cell_type": "code",
      "metadata": {
        "colab": {
          "base_uri": "https://localhost:8080/",
          "height": 204
        },
        "id": "G6LhYAIntpaS",
        "outputId": "046b3356-6f4a-40de-9dbc-3c23a7fa601e"
      },
      "source": [
        "## Get training data from toy_problem\n",
        "n_train_sample = 1000\n",
        "df = generate_dataframe(n_train_sample)\n",
        "context_cols = ['age','ARPU']\n",
        "action_col = ['action']\n",
        "reward_col = ['reward']\n",
        "user_id_col = ['user_id']\n",
        "df.head()"
      ],
      "execution_count": null,
      "outputs": [
        {
          "output_type": "execute_result",
          "data": {
            "text/html": [
              "<div>\n",
              "<style scoped>\n",
              "    .dataframe tbody tr th:only-of-type {\n",
              "        vertical-align: middle;\n",
              "    }\n",
              "\n",
              "    .dataframe tbody tr th {\n",
              "        vertical-align: top;\n",
              "    }\n",
              "\n",
              "    .dataframe thead th {\n",
              "        text-align: right;\n",
              "    }\n",
              "</style>\n",
              "<table border=\"1\" class=\"dataframe\">\n",
              "  <thead>\n",
              "    <tr style=\"text-align: right;\">\n",
              "      <th></th>\n",
              "      <th>age</th>\n",
              "      <th>ARPU</th>\n",
              "      <th>action</th>\n",
              "      <th>reward</th>\n",
              "      <th>user_id</th>\n",
              "    </tr>\n",
              "  </thead>\n",
              "  <tbody>\n",
              "    <tr>\n",
              "      <th>0</th>\n",
              "      <td>35.0</td>\n",
              "      <td>27.538680</td>\n",
              "      <td>2</td>\n",
              "      <td>0</td>\n",
              "      <td>36</td>\n",
              "    </tr>\n",
              "    <tr>\n",
              "      <th>1</th>\n",
              "      <td>20.0</td>\n",
              "      <td>71.388433</td>\n",
              "      <td>2</td>\n",
              "      <td>0</td>\n",
              "      <td>10</td>\n",
              "    </tr>\n",
              "    <tr>\n",
              "      <th>2</th>\n",
              "      <td>38.0</td>\n",
              "      <td>46.973685</td>\n",
              "      <td>2</td>\n",
              "      <td>0</td>\n",
              "      <td>35</td>\n",
              "    </tr>\n",
              "    <tr>\n",
              "      <th>3</th>\n",
              "      <td>25.0</td>\n",
              "      <td>88.654907</td>\n",
              "      <td>1</td>\n",
              "      <td>0</td>\n",
              "      <td>10</td>\n",
              "    </tr>\n",
              "    <tr>\n",
              "      <th>4</th>\n",
              "      <td>28.0</td>\n",
              "      <td>125.695623</td>\n",
              "      <td>0</td>\n",
              "      <td>10</td>\n",
              "      <td>6</td>\n",
              "    </tr>\n",
              "  </tbody>\n",
              "</table>\n",
              "</div>"
            ],
            "text/plain": [
              "    age        ARPU  action  reward  user_id\n",
              "0  35.0   27.538680       2       0       36\n",
              "1  20.0   71.388433       2       0       10\n",
              "2  38.0   46.973685       2       0       35\n",
              "3  25.0   88.654907       1       0       10\n",
              "4  28.0  125.695623       0      10        6"
            ]
          },
          "metadata": {
            "tags": []
          },
          "execution_count": 4
        }
      ]
    },
    {
      "cell_type": "code",
      "metadata": {
        "colab": {
          "base_uri": "https://localhost:8080/"
        },
        "id": "YFbc2ubdtx3e",
        "outputId": "f4768a0b-be4f-4492-9ec7-ffaa37178df0"
      },
      "source": [
        "num_actions = df[action_col].nunique()[0]\n",
        "num_features = len(context_cols)\n",
        "num_users = df[user_id_col].nunique()[0]\n",
        "print(\"Number of actions:\", num_actions)\n",
        "print(\"Number of features:\", num_features)\n",
        "print(\"Number of users:\", num_users)"
      ],
      "execution_count": null,
      "outputs": [
        {
          "output_type": "stream",
          "text": [
            "Number of actions: 3\n",
            "Number of features: 2\n",
            "Number of users: 40\n"
          ],
          "name": "stdout"
        }
      ]
    },
    {
      "cell_type": "markdown",
      "metadata": {
        "id": "oCpd2ODzIhBa"
      },
      "source": [
        "# Train models"
      ]
    },
    {
      "cell_type": "code",
      "metadata": {
        "colab": {
          "base_uri": "https://localhost:8080/"
        },
        "id": "m3VeJoXj27zm",
        "outputId": "ca0a9913-033e-4cc5-9ee1-79cc790e0a96"
      },
      "source": [
        "%%time\n",
        "\n",
        "### Train models \n",
        "demo_model_wide = Wide_Deep_Bandits_BLR_TS(num_actions, num_features, wide_embed_size=num_users, model_type='wide') ## Wide only model\n",
        "demo_model_deep = Wide_Deep_Bandits_BLR_TS(num_actions, num_features, wide_embed_size=num_users, model_type='deep') ## Deep only model\n",
        "demo_model_wide_deep = Wide_Deep_Bandits_BLR_TS(num_actions, num_features, wide_embed_size=num_users, model_type='wide_deep') ## Wide + Deep model\n",
        "\n",
        "for i in range(n_train_sample):\n",
        "  test_context = df[context_cols].iloc[i].values\n",
        "  test_action = df[action_col].iloc[i].values\n",
        "  test_reward = df[reward_col].iloc[i].values\n",
        "  test_user_id = df[user_id_col].iloc[i].values\n",
        "\n",
        "  demo_model_wide.update(torch.tensor(df[user_id_col].iloc[i].values), test_context,test_action,test_reward)\n",
        "  demo_model_deep.update(torch.tensor(df[user_id_col].iloc[i].values), test_context,test_action,test_reward)\n",
        "  demo_model_wide_deep.update(torch.tensor(df[user_id_col].iloc[i].values), test_context,test_action,test_reward)\n",
        "\n",
        "clear_output()"
      ],
      "execution_count": null,
      "outputs": [
        {
          "output_type": "stream",
          "text": [
            "CPU times: user 1min 15s, sys: 58.3 s, total: 2min 14s\n",
            "Wall time: 1min 8s\n"
          ],
          "name": "stdout"
        }
      ]
    },
    {
      "cell_type": "markdown",
      "metadata": {
        "id": "Fv42J7tn9Xuh"
      },
      "source": [
        "## Predict Best Action"
      ]
    },
    {
      "cell_type": "code",
      "metadata": {
        "id": "mPAqk6QC4tva",
        "colab": {
          "base_uri": "https://localhost:8080/"
        },
        "outputId": "bf52871a-1a4c-4460-9f8f-e527c5558a65"
      },
      "source": [
        "user_id = torch.tensor([10])\n",
        "context = torch.tensor([25.0, 100.0])\n",
        "\n",
        "## Possible methods\n",
        "## BLR - Use expected values of Bayesian Linear Regression\n",
        "## BLR_TS - Use Bayesian Linear Regression + Thompson sampling\n",
        "## forward - Use forward pass of neural networks\n",
        "method = 'BLR_TS'\n",
        "\n",
        "action_wide = demo_model_wide.action(user_id, context, method=method)\n",
        "action_deep = demo_model_deep.action(user_id, context, method=method)\n",
        "action_wide_deep = demo_model_wide_deep.action(user_id, context, method=method)"
      ],
      "execution_count": null,
      "outputs": [
        {
          "output_type": "stream",
          "text": [
            "/content/drive/MyDrive/Fellowship_Deep_and_Wide_Bandit/Wide_and_Deep_Models/wide_deep_bandits.py:696: UserWarning: To copy construct from a tensor, it is recommended to use sourceTensor.clone().detach() or sourceTensor.clone().detach().requires_grad_(True), rather than torch.tensor(sourceTensor).\n",
            "  context = torch.tensor(context).float()\n"
          ],
          "name": "stderr"
        }
      ]
    },
    {
      "cell_type": "code",
      "metadata": {
        "colab": {
          "base_uri": "https://localhost:8080/"
        },
        "id": "9SemR8c35v90",
        "outputId": "71fb7889-55da-4a05-cb78-96adeb6326e3"
      },
      "source": [
        "print(\"Wide model predicts action: \", action_wide)\n",
        "print(\"Deep model predicts action: \", action_deep)\n",
        "print(\"Wide + Deep model predicts action: \", action_wide_deep)"
      ],
      "execution_count": null,
      "outputs": [
        {
          "output_type": "stream",
          "text": [
            "Wide model predicts action:  0\n",
            "Deep model predicts action:  1\n",
            "Wide + Deep model predicts action:  2\n"
          ],
          "name": "stdout"
        }
      ]
    },
    {
      "cell_type": "markdown",
      "metadata": {
        "id": "Yhk-Bk2m9d3f"
      },
      "source": [
        "## Get Expected Rewards for Each Action"
      ]
    },
    {
      "cell_type": "code",
      "metadata": {
        "id": "NbXzA0tA7sg4",
        "colab": {
          "base_uri": "https://localhost:8080/"
        },
        "outputId": "11bfc168-5b05-49d9-f87a-b1d1a87528f7"
      },
      "source": [
        "## Possible methods\n",
        "## BLR - Expected values of Bayesian Linear Regression\n",
        "## forward - Forward pass of neural networks\n",
        "method = 'BLR'\n",
        "\n",
        "expected_values_wide = demo_model_wide.expected_values(user_id, context, method=method)\n",
        "expected_values_deep = demo_model_deep.expected_values(user_id, context, method=method)\n",
        "expected_values_wide_deep = demo_model_wide_deep.expected_values(user_id, context, method=method)"
      ],
      "execution_count": null,
      "outputs": [
        {
          "output_type": "stream",
          "text": [
            "/content/drive/MyDrive/Fellowship_Deep_and_Wide_Bandit/Wide_and_Deep_Models/wide_deep_bandits.py:696: UserWarning: To copy construct from a tensor, it is recommended to use sourceTensor.clone().detach() or sourceTensor.clone().detach().requires_grad_(True), rather than torch.tensor(sourceTensor).\n",
            "  context = torch.tensor(context).float()\n"
          ],
          "name": "stderr"
        }
      ]
    },
    {
      "cell_type": "code",
      "metadata": {
        "colab": {
          "base_uri": "https://localhost:8080/"
        },
        "id": "032NKfUH9HBE",
        "outputId": "a1e7576a-6a5a-4c5b-c35e-9dddf0620043"
      },
      "source": [
        "print(\"Wide model expected values: \", expected_values_wide)\n",
        "print(\"Deep model expected values: \", expected_values_deep)\n",
        "print(\"Wide + Deep model expected values: \", expected_values_wide_deep)"
      ],
      "execution_count": null,
      "outputs": [
        {
          "output_type": "stream",
          "text": [
            "Wide model expected values:  [ 9.93697231 -0.05171538 -0.39681977]\n",
            "Deep model expected values:  [ -2.66520746   7.52168137 -62.35741814]\n",
            "Wide + Deep model expected values:  [12.05730841 -1.85155367 37.6499836 ]\n"
          ],
          "name": "stdout"
        }
      ]
    }
  ]
}